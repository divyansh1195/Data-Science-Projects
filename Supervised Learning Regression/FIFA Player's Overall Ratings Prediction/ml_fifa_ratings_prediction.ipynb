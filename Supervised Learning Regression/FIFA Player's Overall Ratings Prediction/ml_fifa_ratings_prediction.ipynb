{
  "nbformat": 4,
  "nbformat_minor": 0,
  "metadata": {
    "kernelspec": {
      "display_name": "Python 3",
      "language": "python",
      "name": "python3"
    },
    "language_info": {
      "codemirror_mode": {
        "name": "ipython",
        "version": 3
      },
      "file_extension": ".py",
      "mimetype": "text/x-python",
      "name": "python",
      "nbconvert_exporter": "python",
      "pygments_lexer": "ipython3",
      "version": "3.8.5"
    },
    "colab": {
      "name": "ml-fifa-ratings-prediction.ipynb",
      "provenance": []
    },
    "accelerator": "GPU"
  },
  "cells": [
    {
      "cell_type": "markdown",
      "metadata": {
        "id": "l_loSRij6BsX"
      },
      "source": [
        "1/19/2018 ML Project(Updated) (1)\\\n",
        "Predicting players rating\\\n",
        "In this project you are going to predict the overall rating of soccer player based on their\n",
        "attributes such as 'crossing', 'finishing etc.\\\n",
        "The dataset you are going to use is from European Soccer Database (https://www.kaggle.com/hugomathien/soccer) has more than 25,000 matches and more\n",
        "than 10,000 players for European professional soccer seasons from 2008 to 2016.\\\n",
        "Download the data in the same folder and run the following commmand to get it in the environment\n",
        "\n",
        "About the Dataset\\\n",
        "The ultimate Soccer database for data analysis and machine learning\n",
        "The dataset comes in the form of an SQL database and contains statistics of about 25,000 football matches, from the top football league of 11 European Countries. It covers seasons from 2008 to 2016 and contains match statistics (i.e: scores, corners, fouls etc...) as well as the team formations, with player names and a pair of coordinates to indicate their position on the pitch.\\\n",
        "+25,000 matches\\\n",
        "+10,000 players\\\n",
        "11 European Countries with their lead championship Seasons 2008 to 2016\n",
        "Players and Teams' attributes* sourced from EA Sports' FIFA video game series, including\n",
        "the weekly updates\\\n",
        "Team line up with squad formation (X, Y coordinates)\\\n",
        "Betting odds from up to 10 providers\\\n",
        "Detailed match events (goal types, possession, corner, cross, fouls, cards etc...) for\n",
        "+10,000 matches\\\n",
        "The dataset also has a set of about 35 statistics for each player, derived from EA Sports' FIFA\n",
        "video games. It is not just the stats that come with a new version of the game but also the weekly updates. So for instance if a player has performed poorly over a period of time and his stats get impacted in FIFA, you would normally see the same in the dataset.\n",
        "Python skills required to complete this project "
      ]
    },
    {
      "cell_type": "code",
      "metadata": {
        "colab": {
          "base_uri": "https://localhost:8080/"
        },
        "id": "00fAEWWy7VmY",
        "outputId": "23b953a1-4031-43d6-f17a-7028a05c0ab9"
      },
      "source": [
        "from google.colab import drive\n",
        "drive.mount('/content/drive')"
      ],
      "execution_count": 1,
      "outputs": [
        {
          "output_type": "stream",
          "text": [
            "Drive already mounted at /content/drive; to attempt to forcibly remount, call drive.mount(\"/content/drive\", force_remount=True).\n"
          ],
          "name": "stdout"
        }
      ]
    },
    {
      "cell_type": "markdown",
      "metadata": {
        "id": "rkET4J886Bsl"
      },
      "source": [
        "SQL:\\\n",
        "The data is in SQL database so students need to retrive using query language. They also need\n",
        "to know how to connect SQL database woth python. The library we are using for this in 'sqlite3'.http://localhost:8888/notebooks/20th%20Januray/ML%20Project(Updated)%20(1).ipynb# 1/4\\\n",
        "1/19/2018 ML Project(Updated) (1)\\\n",
        "SQLite3 can be integrated with Python using sqlite3 module, which was written by Gerhard Haring. It provides an SQL interface compliant with the DB-API 2.0 specification described by PEP 249. You do not need to install this module separately because it is shipped by default along with Python version 2.5.x onwards. To use sqlite3 module, you must first create a connection object that represents the database and then optionally you can create a cursor object, which will help you in executing all the SQL statements.\\\n",
        "Pandas:\\\n",
        "Pandas is an open-source, BSD-licensed Python library providing high-performance, easy-to-use\n",
        "data structures and data analysis tools for the Python programming language. Python with\n",
        "Pandas is used in a wide range of fields including academic and commercial domains including\n",
        "finance, economics, Statistics, analytics, etc.In this tutorial, we will learn the various features of Python Pandas and how to use them in practice.\\\n",
        "Scikit Learn:\\\n",
        "Scikit-learn provides a range of supervised and unsupervised learning algorithms via a\n",
        "consistent interface in Python. The library is built upon the SciPy (Scientific Python) that must be installed before you can use scikit-learn. This stack that includes:\\\n",
        "NumPy: Base n-dimensional array package\\\n",
        "SciPy: Fundamental library for scientific computing\\\n",
        "Matplotlib: Comprehensive 2D/3D plotting\\\n",
        "IPython: Enhanced interactive console\\\n",
        "Sympy: Symbolic mathematics\\\n",
        "Pandas: Data structures and analysis\\\n",
        "Extensions or modules for SciPy care conventionally named SciKits. As such, the module\n",
        "provides learning algorithms and is named scikit-learn. The vision for the library is a level of robustness and support required for use in production systems. This means a deep focus on concerns such as easy of use, code quality, collaboration, documentation and performance.\n",
        "Machine Learning skills required to complete the project\n",
        "\n",
        "Supervised learning\\\n",
        "Supervised learning deals with learning a function from available training data. A supervised\n",
        "learning algorithm analyzes the training data and produces an inferred function, which can be\n",
        "used for mapping new examples.\\\n",
        "http://localhost:8888/notebooks/20th%20Januray/ML%20Project(Updated)%20(1).ipynb# 2/4\n",
        "1/19/2018 ML Project(Updated) (1)\\\n",
        "Regression:\\\n",
        "Regression is a parametric technique used to predict continuous (dependent) variable given a set of independent variables. It is parametric in nature because it makes certain assumptions\n",
        "(discussed next) based on the data set. If the data set follows those assumptions, regression gives incredible results.\\\n",
        "Model evaluation:\\\n",
        "Student must know how to judge a model on unseen data. What metric to select to judge\n",
        "the performance.\\\n",
        "\n",
        "Let's get started.....\\\n",
        "Import Libraries\\\n",
        "import sqlite3\\\n",
        "import pandas as pd\\\n",
        "from sklearn.tree import DecisionTreeRegressor\\\n",
        "from sklearn.linear_model import LinearRegression\\\n",
        "from sklearn.model_selection import train_test_split\\\n",
        "from sklearn.metrics import mean_squared_error\\\n",
        "from math import sqrt\n",
        "\n",
        "Read Data from the Database into pandas\\\n",
        "In [2]: # Create your connection.\\\n",
        "cnx = sqlite3.connect('database.sqlite')\\\n",
        "df = pd.read_sql_query(\"SELECT * FROM Player_Attributes\", cnx)"
      ]
    },
    {
      "cell_type": "markdown",
      "metadata": {
        "id": "0tR-xzYl6Bsm"
      },
      "source": [
        "### The ultimate soccer database for Data Analysis and Machine Learning"
      ]
    },
    {
      "cell_type": "code",
      "metadata": {
        "id": "wD5vZz9C6Bso"
      },
      "source": [
        "#IMPORTING THE LIBRARIES\n",
        "import sqlite3\n",
        "import numpy as np\n",
        "import pandas as pd\n",
        "import seaborn as sns\n",
        "import matplotlib.pyplot as plt"
      ],
      "execution_count": 2,
      "outputs": []
    },
    {
      "cell_type": "code",
      "metadata": {
        "id": "tIuhEoTt6Bsp"
      },
      "source": [
        "sql = sqlite3.connect('/content/drive/MyDrive/Colab Notebooks/database.sqlite')"
      ],
      "execution_count": 3,
      "outputs": []
    },
    {
      "cell_type": "markdown",
      "metadata": {
        "id": "_fLVSkUG6Bsq"
      },
      "source": [
        "##### Showing tables using SQL statement:\n",
        "##### To list all tables in a database is to query them from the sqlite_master table."
      ]
    },
    {
      "cell_type": "code",
      "metadata": {
        "id": "UA92_5sU6Bsr",
        "colab": {
          "base_uri": "https://localhost:8080/",
          "height": 300
        },
        "outputId": "654fdabe-cbb4-4d9e-91d3-37f718979e2c"
      },
      "source": [
        "db = pd.read_sql_query(\"SELECT name FROM sqlite_master WHERE type='table'\", sql)\n",
        "db"
      ],
      "execution_count": 4,
      "outputs": [
        {
          "output_type": "execute_result",
          "data": {
            "text/html": [
              "<div>\n",
              "<style scoped>\n",
              "    .dataframe tbody tr th:only-of-type {\n",
              "        vertical-align: middle;\n",
              "    }\n",
              "\n",
              "    .dataframe tbody tr th {\n",
              "        vertical-align: top;\n",
              "    }\n",
              "\n",
              "    .dataframe thead th {\n",
              "        text-align: right;\n",
              "    }\n",
              "</style>\n",
              "<table border=\"1\" class=\"dataframe\">\n",
              "  <thead>\n",
              "    <tr style=\"text-align: right;\">\n",
              "      <th></th>\n",
              "      <th>name</th>\n",
              "    </tr>\n",
              "  </thead>\n",
              "  <tbody>\n",
              "    <tr>\n",
              "      <th>0</th>\n",
              "      <td>sqlite_sequence</td>\n",
              "    </tr>\n",
              "    <tr>\n",
              "      <th>1</th>\n",
              "      <td>Player_Attributes</td>\n",
              "    </tr>\n",
              "    <tr>\n",
              "      <th>2</th>\n",
              "      <td>Player</td>\n",
              "    </tr>\n",
              "    <tr>\n",
              "      <th>3</th>\n",
              "      <td>Match</td>\n",
              "    </tr>\n",
              "    <tr>\n",
              "      <th>4</th>\n",
              "      <td>League</td>\n",
              "    </tr>\n",
              "    <tr>\n",
              "      <th>5</th>\n",
              "      <td>Country</td>\n",
              "    </tr>\n",
              "    <tr>\n",
              "      <th>6</th>\n",
              "      <td>Team</td>\n",
              "    </tr>\n",
              "    <tr>\n",
              "      <th>7</th>\n",
              "      <td>Team_Attributes</td>\n",
              "    </tr>\n",
              "  </tbody>\n",
              "</table>\n",
              "</div>"
            ],
            "text/plain": [
              "                name\n",
              "0    sqlite_sequence\n",
              "1  Player_Attributes\n",
              "2             Player\n",
              "3              Match\n",
              "4             League\n",
              "5            Country\n",
              "6               Team\n",
              "7    Team_Attributes"
            ]
          },
          "metadata": {
            "tags": []
          },
          "execution_count": 4
        }
      ]
    },
    {
      "cell_type": "code",
      "metadata": {
        "id": "NuSj7UIL6Bst",
        "colab": {
          "base_uri": "https://localhost:8080/",
          "height": 167
        },
        "outputId": "4b0d4b5e-ab68-403b-93f6-4132df188c15"
      },
      "source": [
        "#we require players ratings dataset for the project\n",
        "df = pd.read_sql_query(\"SELECT * FROM Player_Attributes\", sql)\n",
        "df.head(2)"
      ],
      "execution_count": 5,
      "outputs": [
        {
          "output_type": "execute_result",
          "data": {
            "text/html": [
              "<div>\n",
              "<style scoped>\n",
              "    .dataframe tbody tr th:only-of-type {\n",
              "        vertical-align: middle;\n",
              "    }\n",
              "\n",
              "    .dataframe tbody tr th {\n",
              "        vertical-align: top;\n",
              "    }\n",
              "\n",
              "    .dataframe thead th {\n",
              "        text-align: right;\n",
              "    }\n",
              "</style>\n",
              "<table border=\"1\" class=\"dataframe\">\n",
              "  <thead>\n",
              "    <tr style=\"text-align: right;\">\n",
              "      <th></th>\n",
              "      <th>id</th>\n",
              "      <th>player_fifa_api_id</th>\n",
              "      <th>player_api_id</th>\n",
              "      <th>date</th>\n",
              "      <th>overall_rating</th>\n",
              "      <th>potential</th>\n",
              "      <th>preferred_foot</th>\n",
              "      <th>attacking_work_rate</th>\n",
              "      <th>defensive_work_rate</th>\n",
              "      <th>crossing</th>\n",
              "      <th>finishing</th>\n",
              "      <th>heading_accuracy</th>\n",
              "      <th>short_passing</th>\n",
              "      <th>volleys</th>\n",
              "      <th>dribbling</th>\n",
              "      <th>curve</th>\n",
              "      <th>free_kick_accuracy</th>\n",
              "      <th>long_passing</th>\n",
              "      <th>ball_control</th>\n",
              "      <th>acceleration</th>\n",
              "      <th>sprint_speed</th>\n",
              "      <th>agility</th>\n",
              "      <th>reactions</th>\n",
              "      <th>balance</th>\n",
              "      <th>shot_power</th>\n",
              "      <th>jumping</th>\n",
              "      <th>stamina</th>\n",
              "      <th>strength</th>\n",
              "      <th>long_shots</th>\n",
              "      <th>aggression</th>\n",
              "      <th>interceptions</th>\n",
              "      <th>positioning</th>\n",
              "      <th>vision</th>\n",
              "      <th>penalties</th>\n",
              "      <th>marking</th>\n",
              "      <th>standing_tackle</th>\n",
              "      <th>sliding_tackle</th>\n",
              "      <th>gk_diving</th>\n",
              "      <th>gk_handling</th>\n",
              "      <th>gk_kicking</th>\n",
              "      <th>gk_positioning</th>\n",
              "      <th>gk_reflexes</th>\n",
              "    </tr>\n",
              "  </thead>\n",
              "  <tbody>\n",
              "    <tr>\n",
              "      <th>0</th>\n",
              "      <td>1</td>\n",
              "      <td>218353</td>\n",
              "      <td>505942</td>\n",
              "      <td>2016-02-18 00:00:00</td>\n",
              "      <td>67.0</td>\n",
              "      <td>71.0</td>\n",
              "      <td>right</td>\n",
              "      <td>medium</td>\n",
              "      <td>medium</td>\n",
              "      <td>49.0</td>\n",
              "      <td>44.0</td>\n",
              "      <td>71.0</td>\n",
              "      <td>61.0</td>\n",
              "      <td>44.0</td>\n",
              "      <td>51.0</td>\n",
              "      <td>45.0</td>\n",
              "      <td>39.0</td>\n",
              "      <td>64.0</td>\n",
              "      <td>49.0</td>\n",
              "      <td>60.0</td>\n",
              "      <td>64.0</td>\n",
              "      <td>59.0</td>\n",
              "      <td>47.0</td>\n",
              "      <td>65.0</td>\n",
              "      <td>55.0</td>\n",
              "      <td>58.0</td>\n",
              "      <td>54.0</td>\n",
              "      <td>76.0</td>\n",
              "      <td>35.0</td>\n",
              "      <td>71.0</td>\n",
              "      <td>70.0</td>\n",
              "      <td>45.0</td>\n",
              "      <td>54.0</td>\n",
              "      <td>48.0</td>\n",
              "      <td>65.0</td>\n",
              "      <td>69.0</td>\n",
              "      <td>69.0</td>\n",
              "      <td>6.0</td>\n",
              "      <td>11.0</td>\n",
              "      <td>10.0</td>\n",
              "      <td>8.0</td>\n",
              "      <td>8.0</td>\n",
              "    </tr>\n",
              "    <tr>\n",
              "      <th>1</th>\n",
              "      <td>2</td>\n",
              "      <td>218353</td>\n",
              "      <td>505942</td>\n",
              "      <td>2015-11-19 00:00:00</td>\n",
              "      <td>67.0</td>\n",
              "      <td>71.0</td>\n",
              "      <td>right</td>\n",
              "      <td>medium</td>\n",
              "      <td>medium</td>\n",
              "      <td>49.0</td>\n",
              "      <td>44.0</td>\n",
              "      <td>71.0</td>\n",
              "      <td>61.0</td>\n",
              "      <td>44.0</td>\n",
              "      <td>51.0</td>\n",
              "      <td>45.0</td>\n",
              "      <td>39.0</td>\n",
              "      <td>64.0</td>\n",
              "      <td>49.0</td>\n",
              "      <td>60.0</td>\n",
              "      <td>64.0</td>\n",
              "      <td>59.0</td>\n",
              "      <td>47.0</td>\n",
              "      <td>65.0</td>\n",
              "      <td>55.0</td>\n",
              "      <td>58.0</td>\n",
              "      <td>54.0</td>\n",
              "      <td>76.0</td>\n",
              "      <td>35.0</td>\n",
              "      <td>71.0</td>\n",
              "      <td>70.0</td>\n",
              "      <td>45.0</td>\n",
              "      <td>54.0</td>\n",
              "      <td>48.0</td>\n",
              "      <td>65.0</td>\n",
              "      <td>69.0</td>\n",
              "      <td>69.0</td>\n",
              "      <td>6.0</td>\n",
              "      <td>11.0</td>\n",
              "      <td>10.0</td>\n",
              "      <td>8.0</td>\n",
              "      <td>8.0</td>\n",
              "    </tr>\n",
              "  </tbody>\n",
              "</table>\n",
              "</div>"
            ],
            "text/plain": [
              "   id  player_fifa_api_id  ...  gk_positioning gk_reflexes\n",
              "0   1              218353  ...             8.0         8.0\n",
              "1   2              218353  ...             8.0         8.0\n",
              "\n",
              "[2 rows x 42 columns]"
            ]
          },
          "metadata": {
            "tags": []
          },
          "execution_count": 5
        }
      ]
    },
    {
      "cell_type": "markdown",
      "metadata": {
        "id": "sNLCI4-P6Bst"
      },
      "source": [
        "**from the above dataset, \"overall_rating\" is the output dependent feature**"
      ]
    },
    {
      "cell_type": "markdown",
      "metadata": {
        "id": "U4pCJAC56Bsu"
      },
      "source": [
        "#### Data Cleaning"
      ]
    },
    {
      "cell_type": "code",
      "metadata": {
        "id": "6KOaBLx26Bsv",
        "colab": {
          "base_uri": "https://localhost:8080/"
        },
        "outputId": "f8b8763e-a447-4bb9-f8a2-8b1f59ea6fd8"
      },
      "source": [
        "print(df.shape)\n",
        "print(df.dtypes)\n",
        "print(df.columns)"
      ],
      "execution_count": 6,
      "outputs": [
        {
          "output_type": "stream",
          "text": [
            "(183978, 42)\n",
            "id                       int64\n",
            "player_fifa_api_id       int64\n",
            "player_api_id            int64\n",
            "date                    object\n",
            "overall_rating         float64\n",
            "potential              float64\n",
            "preferred_foot          object\n",
            "attacking_work_rate     object\n",
            "defensive_work_rate     object\n",
            "crossing               float64\n",
            "finishing              float64\n",
            "heading_accuracy       float64\n",
            "short_passing          float64\n",
            "volleys                float64\n",
            "dribbling              float64\n",
            "curve                  float64\n",
            "free_kick_accuracy     float64\n",
            "long_passing           float64\n",
            "ball_control           float64\n",
            "acceleration           float64\n",
            "sprint_speed           float64\n",
            "agility                float64\n",
            "reactions              float64\n",
            "balance                float64\n",
            "shot_power             float64\n",
            "jumping                float64\n",
            "stamina                float64\n",
            "strength               float64\n",
            "long_shots             float64\n",
            "aggression             float64\n",
            "interceptions          float64\n",
            "positioning            float64\n",
            "vision                 float64\n",
            "penalties              float64\n",
            "marking                float64\n",
            "standing_tackle        float64\n",
            "sliding_tackle         float64\n",
            "gk_diving              float64\n",
            "gk_handling            float64\n",
            "gk_kicking             float64\n",
            "gk_positioning         float64\n",
            "gk_reflexes            float64\n",
            "dtype: object\n",
            "Index(['id', 'player_fifa_api_id', 'player_api_id', 'date', 'overall_rating',\n",
            "       'potential', 'preferred_foot', 'attacking_work_rate',\n",
            "       'defensive_work_rate', 'crossing', 'finishing', 'heading_accuracy',\n",
            "       'short_passing', 'volleys', 'dribbling', 'curve', 'free_kick_accuracy',\n",
            "       'long_passing', 'ball_control', 'acceleration', 'sprint_speed',\n",
            "       'agility', 'reactions', 'balance', 'shot_power', 'jumping', 'stamina',\n",
            "       'strength', 'long_shots', 'aggression', 'interceptions', 'positioning',\n",
            "       'vision', 'penalties', 'marking', 'standing_tackle', 'sliding_tackle',\n",
            "       'gk_diving', 'gk_handling', 'gk_kicking', 'gk_positioning',\n",
            "       'gk_reflexes'],\n",
            "      dtype='object')\n"
          ],
          "name": "stdout"
        }
      ]
    },
    {
      "cell_type": "markdown",
      "metadata": {
        "id": "bojFX5bC6Bsw"
      },
      "source": [
        "### EDA-Feature Engineering: Taking care of missing values and Handling Categorical Features"
      ]
    },
    {
      "cell_type": "code",
      "metadata": {
        "id": "mmn1Rufe6Bsw",
        "colab": {
          "base_uri": "https://localhost:8080/"
        },
        "outputId": "89d57283-4cca-43db-cd8b-ac3095fb2a54"
      },
      "source": [
        "features_nan=[feature for feature in df.columns if df[feature].isnull().sum()>0]\n",
        "\n",
        "for feature in features_nan:\n",
        "    print(feature, df[feature].isnull().sum())"
      ],
      "execution_count": 7,
      "outputs": [
        {
          "output_type": "stream",
          "text": [
            "overall_rating 836\n",
            "potential 836\n",
            "preferred_foot 836\n",
            "attacking_work_rate 3230\n",
            "defensive_work_rate 836\n",
            "crossing 836\n",
            "finishing 836\n",
            "heading_accuracy 836\n",
            "short_passing 836\n",
            "volleys 2713\n",
            "dribbling 836\n",
            "curve 2713\n",
            "free_kick_accuracy 836\n",
            "long_passing 836\n",
            "ball_control 836\n",
            "acceleration 836\n",
            "sprint_speed 836\n",
            "agility 2713\n",
            "reactions 836\n",
            "balance 2713\n",
            "shot_power 836\n",
            "jumping 2713\n",
            "stamina 836\n",
            "strength 836\n",
            "long_shots 836\n",
            "aggression 836\n",
            "interceptions 836\n",
            "positioning 836\n",
            "vision 2713\n",
            "penalties 836\n",
            "marking 836\n",
            "standing_tackle 836\n",
            "sliding_tackle 2713\n",
            "gk_diving 836\n",
            "gk_handling 836\n",
            "gk_kicking 836\n",
            "gk_positioning 836\n",
            "gk_reflexes 836\n"
          ],
          "name": "stdout"
        }
      ]
    },
    {
      "cell_type": "markdown",
      "metadata": {
        "id": "XIC5-7_E6Bsx"
      },
      "source": [
        "##### There is a lot of NAN values in most of the features within the dataset. But, befor handling these missing values, let's look at \"attacking_work_rate\" and \"defensive_work_rate\" features as they have many records that need to be dropped because of non-uniformity in their levels."
      ]
    },
    {
      "cell_type": "code",
      "metadata": {
        "id": "DmX0_D6L6Bsx",
        "colab": {
          "base_uri": "https://localhost:8080/",
          "height": 226
        },
        "outputId": "6be59167-5401-4137-d817-39e3640d6d7d"
      },
      "source": [
        "df.drop(labels=[\"id\",\"player_fifa_api_id\",\"player_api_id\", \"date\"], axis=1, inplace=True)\n",
        "df.head()#drop columns as they are just ids and don't add any extra information to our model"
      ],
      "execution_count": 8,
      "outputs": [
        {
          "output_type": "execute_result",
          "data": {
            "text/html": [
              "<div>\n",
              "<style scoped>\n",
              "    .dataframe tbody tr th:only-of-type {\n",
              "        vertical-align: middle;\n",
              "    }\n",
              "\n",
              "    .dataframe tbody tr th {\n",
              "        vertical-align: top;\n",
              "    }\n",
              "\n",
              "    .dataframe thead th {\n",
              "        text-align: right;\n",
              "    }\n",
              "</style>\n",
              "<table border=\"1\" class=\"dataframe\">\n",
              "  <thead>\n",
              "    <tr style=\"text-align: right;\">\n",
              "      <th></th>\n",
              "      <th>overall_rating</th>\n",
              "      <th>potential</th>\n",
              "      <th>preferred_foot</th>\n",
              "      <th>attacking_work_rate</th>\n",
              "      <th>defensive_work_rate</th>\n",
              "      <th>crossing</th>\n",
              "      <th>finishing</th>\n",
              "      <th>heading_accuracy</th>\n",
              "      <th>short_passing</th>\n",
              "      <th>volleys</th>\n",
              "      <th>dribbling</th>\n",
              "      <th>curve</th>\n",
              "      <th>free_kick_accuracy</th>\n",
              "      <th>long_passing</th>\n",
              "      <th>ball_control</th>\n",
              "      <th>acceleration</th>\n",
              "      <th>sprint_speed</th>\n",
              "      <th>agility</th>\n",
              "      <th>reactions</th>\n",
              "      <th>balance</th>\n",
              "      <th>shot_power</th>\n",
              "      <th>jumping</th>\n",
              "      <th>stamina</th>\n",
              "      <th>strength</th>\n",
              "      <th>long_shots</th>\n",
              "      <th>aggression</th>\n",
              "      <th>interceptions</th>\n",
              "      <th>positioning</th>\n",
              "      <th>vision</th>\n",
              "      <th>penalties</th>\n",
              "      <th>marking</th>\n",
              "      <th>standing_tackle</th>\n",
              "      <th>sliding_tackle</th>\n",
              "      <th>gk_diving</th>\n",
              "      <th>gk_handling</th>\n",
              "      <th>gk_kicking</th>\n",
              "      <th>gk_positioning</th>\n",
              "      <th>gk_reflexes</th>\n",
              "    </tr>\n",
              "  </thead>\n",
              "  <tbody>\n",
              "    <tr>\n",
              "      <th>0</th>\n",
              "      <td>67.0</td>\n",
              "      <td>71.0</td>\n",
              "      <td>right</td>\n",
              "      <td>medium</td>\n",
              "      <td>medium</td>\n",
              "      <td>49.0</td>\n",
              "      <td>44.0</td>\n",
              "      <td>71.0</td>\n",
              "      <td>61.0</td>\n",
              "      <td>44.0</td>\n",
              "      <td>51.0</td>\n",
              "      <td>45.0</td>\n",
              "      <td>39.0</td>\n",
              "      <td>64.0</td>\n",
              "      <td>49.0</td>\n",
              "      <td>60.0</td>\n",
              "      <td>64.0</td>\n",
              "      <td>59.0</td>\n",
              "      <td>47.0</td>\n",
              "      <td>65.0</td>\n",
              "      <td>55.0</td>\n",
              "      <td>58.0</td>\n",
              "      <td>54.0</td>\n",
              "      <td>76.0</td>\n",
              "      <td>35.0</td>\n",
              "      <td>71.0</td>\n",
              "      <td>70.0</td>\n",
              "      <td>45.0</td>\n",
              "      <td>54.0</td>\n",
              "      <td>48.0</td>\n",
              "      <td>65.0</td>\n",
              "      <td>69.0</td>\n",
              "      <td>69.0</td>\n",
              "      <td>6.0</td>\n",
              "      <td>11.0</td>\n",
              "      <td>10.0</td>\n",
              "      <td>8.0</td>\n",
              "      <td>8.0</td>\n",
              "    </tr>\n",
              "    <tr>\n",
              "      <th>1</th>\n",
              "      <td>67.0</td>\n",
              "      <td>71.0</td>\n",
              "      <td>right</td>\n",
              "      <td>medium</td>\n",
              "      <td>medium</td>\n",
              "      <td>49.0</td>\n",
              "      <td>44.0</td>\n",
              "      <td>71.0</td>\n",
              "      <td>61.0</td>\n",
              "      <td>44.0</td>\n",
              "      <td>51.0</td>\n",
              "      <td>45.0</td>\n",
              "      <td>39.0</td>\n",
              "      <td>64.0</td>\n",
              "      <td>49.0</td>\n",
              "      <td>60.0</td>\n",
              "      <td>64.0</td>\n",
              "      <td>59.0</td>\n",
              "      <td>47.0</td>\n",
              "      <td>65.0</td>\n",
              "      <td>55.0</td>\n",
              "      <td>58.0</td>\n",
              "      <td>54.0</td>\n",
              "      <td>76.0</td>\n",
              "      <td>35.0</td>\n",
              "      <td>71.0</td>\n",
              "      <td>70.0</td>\n",
              "      <td>45.0</td>\n",
              "      <td>54.0</td>\n",
              "      <td>48.0</td>\n",
              "      <td>65.0</td>\n",
              "      <td>69.0</td>\n",
              "      <td>69.0</td>\n",
              "      <td>6.0</td>\n",
              "      <td>11.0</td>\n",
              "      <td>10.0</td>\n",
              "      <td>8.0</td>\n",
              "      <td>8.0</td>\n",
              "    </tr>\n",
              "    <tr>\n",
              "      <th>2</th>\n",
              "      <td>62.0</td>\n",
              "      <td>66.0</td>\n",
              "      <td>right</td>\n",
              "      <td>medium</td>\n",
              "      <td>medium</td>\n",
              "      <td>49.0</td>\n",
              "      <td>44.0</td>\n",
              "      <td>71.0</td>\n",
              "      <td>61.0</td>\n",
              "      <td>44.0</td>\n",
              "      <td>51.0</td>\n",
              "      <td>45.0</td>\n",
              "      <td>39.0</td>\n",
              "      <td>64.0</td>\n",
              "      <td>49.0</td>\n",
              "      <td>60.0</td>\n",
              "      <td>64.0</td>\n",
              "      <td>59.0</td>\n",
              "      <td>47.0</td>\n",
              "      <td>65.0</td>\n",
              "      <td>55.0</td>\n",
              "      <td>58.0</td>\n",
              "      <td>54.0</td>\n",
              "      <td>76.0</td>\n",
              "      <td>35.0</td>\n",
              "      <td>63.0</td>\n",
              "      <td>41.0</td>\n",
              "      <td>45.0</td>\n",
              "      <td>54.0</td>\n",
              "      <td>48.0</td>\n",
              "      <td>65.0</td>\n",
              "      <td>66.0</td>\n",
              "      <td>69.0</td>\n",
              "      <td>6.0</td>\n",
              "      <td>11.0</td>\n",
              "      <td>10.0</td>\n",
              "      <td>8.0</td>\n",
              "      <td>8.0</td>\n",
              "    </tr>\n",
              "    <tr>\n",
              "      <th>3</th>\n",
              "      <td>61.0</td>\n",
              "      <td>65.0</td>\n",
              "      <td>right</td>\n",
              "      <td>medium</td>\n",
              "      <td>medium</td>\n",
              "      <td>48.0</td>\n",
              "      <td>43.0</td>\n",
              "      <td>70.0</td>\n",
              "      <td>60.0</td>\n",
              "      <td>43.0</td>\n",
              "      <td>50.0</td>\n",
              "      <td>44.0</td>\n",
              "      <td>38.0</td>\n",
              "      <td>63.0</td>\n",
              "      <td>48.0</td>\n",
              "      <td>60.0</td>\n",
              "      <td>64.0</td>\n",
              "      <td>59.0</td>\n",
              "      <td>46.0</td>\n",
              "      <td>65.0</td>\n",
              "      <td>54.0</td>\n",
              "      <td>58.0</td>\n",
              "      <td>54.0</td>\n",
              "      <td>76.0</td>\n",
              "      <td>34.0</td>\n",
              "      <td>62.0</td>\n",
              "      <td>40.0</td>\n",
              "      <td>44.0</td>\n",
              "      <td>53.0</td>\n",
              "      <td>47.0</td>\n",
              "      <td>62.0</td>\n",
              "      <td>63.0</td>\n",
              "      <td>66.0</td>\n",
              "      <td>5.0</td>\n",
              "      <td>10.0</td>\n",
              "      <td>9.0</td>\n",
              "      <td>7.0</td>\n",
              "      <td>7.0</td>\n",
              "    </tr>\n",
              "    <tr>\n",
              "      <th>4</th>\n",
              "      <td>61.0</td>\n",
              "      <td>65.0</td>\n",
              "      <td>right</td>\n",
              "      <td>medium</td>\n",
              "      <td>medium</td>\n",
              "      <td>48.0</td>\n",
              "      <td>43.0</td>\n",
              "      <td>70.0</td>\n",
              "      <td>60.0</td>\n",
              "      <td>43.0</td>\n",
              "      <td>50.0</td>\n",
              "      <td>44.0</td>\n",
              "      <td>38.0</td>\n",
              "      <td>63.0</td>\n",
              "      <td>48.0</td>\n",
              "      <td>60.0</td>\n",
              "      <td>64.0</td>\n",
              "      <td>59.0</td>\n",
              "      <td>46.0</td>\n",
              "      <td>65.0</td>\n",
              "      <td>54.0</td>\n",
              "      <td>58.0</td>\n",
              "      <td>54.0</td>\n",
              "      <td>76.0</td>\n",
              "      <td>34.0</td>\n",
              "      <td>62.0</td>\n",
              "      <td>40.0</td>\n",
              "      <td>44.0</td>\n",
              "      <td>53.0</td>\n",
              "      <td>47.0</td>\n",
              "      <td>62.0</td>\n",
              "      <td>63.0</td>\n",
              "      <td>66.0</td>\n",
              "      <td>5.0</td>\n",
              "      <td>10.0</td>\n",
              "      <td>9.0</td>\n",
              "      <td>7.0</td>\n",
              "      <td>7.0</td>\n",
              "    </tr>\n",
              "  </tbody>\n",
              "</table>\n",
              "</div>"
            ],
            "text/plain": [
              "   overall_rating  potential  ... gk_positioning gk_reflexes\n",
              "0            67.0       71.0  ...            8.0         8.0\n",
              "1            67.0       71.0  ...            8.0         8.0\n",
              "2            62.0       66.0  ...            8.0         8.0\n",
              "3            61.0       65.0  ...            7.0         7.0\n",
              "4            61.0       65.0  ...            7.0         7.0\n",
              "\n",
              "[5 rows x 38 columns]"
            ]
          },
          "metadata": {
            "tags": []
          },
          "execution_count": 8
        }
      ]
    },
    {
      "cell_type": "code",
      "metadata": {
        "id": "Dm9G_1lh6Bsy",
        "colab": {
          "base_uri": "https://localhost:8080/"
        },
        "outputId": "e9ffdf7f-aa00-4657-9c4d-4f1ff0797c28"
      },
      "source": [
        "print(\"The OG shape of the dataset is\", df.shape)"
      ],
      "execution_count": 9,
      "outputs": [
        {
          "output_type": "stream",
          "text": [
            "The OG shape of the dataset is (183978, 38)\n"
          ],
          "name": "stdout"
        }
      ]
    },
    {
      "cell_type": "code",
      "metadata": {
        "id": "Rp6QlJrI6Bsy",
        "colab": {
          "base_uri": "https://localhost:8080/"
        },
        "outputId": "751fba7b-311d-4d1c-c2c4-351804f5d0c4"
      },
      "source": [
        "#Categorical Features - attacking work rate and defensive work rate\n",
        "\n",
        "print(df.attacking_work_rate.unique())\n",
        "print(df.defensive_work_rate.unique())"
      ],
      "execution_count": 10,
      "outputs": [
        {
          "output_type": "stream",
          "text": [
            "['medium' 'high' None 'low' 'None' 'le' 'norm' 'stoc' 'y']\n",
            "['medium' 'high' 'low' '_0' None '5' 'ean' 'o' '1' 'ormal' '7' '2' '8' '4'\n",
            " 'tocky' '0' '3' '6' '9' 'es']\n"
          ],
          "name": "stdout"
        }
      ]
    },
    {
      "cell_type": "code",
      "metadata": {
        "id": "44MeXaux6Bsz",
        "colab": {
          "base_uri": "https://localhost:8080/",
          "height": 729
        },
        "outputId": "a07d8c41-daf8-4b4d-a147-7484f7db99e6"
      },
      "source": [
        "fig3, ax3 = plt.subplots(nrows = 3, ncols = 1)\n",
        "fig3.set_size_inches(10,10)\n",
        "sns.countplot(x = df['preferred_foot'],ax = ax3[0])\n",
        "sns.countplot(x = df['attacking_work_rate'],ax = ax3[1])\n",
        "sns.countplot(x = df['defensive_work_rate'], ax=ax3[2])\n",
        "fig3.tight_layout()"
      ],
      "execution_count": 11,
      "outputs": [
        {
          "output_type": "display_data",
          "data": {
            "image/png": "[encoded data removed]",
            "text/plain": [
              "<Figure size 720x720 with 3 Axes>"
            ]
          },
          "metadata": {
            "tags": [],
            "needs_background": "light"
          }
        }
      ]
    },
    {
      "cell_type": "markdown",
      "metadata": {
        "id": "KJFs992_6Bs0"
      },
      "source": [
        "**The levels for both the attacking_work_rate and defensive_work_rate cateorical features should be 'low', 'medium', and 'high'. Note that they also account for the majority of instances. The remaining of the levels do not make sense so remove the instances that contain them.**"
      ]
    },
    {
      "cell_type": "code",
      "metadata": {
        "id": "OVSveaLP6Bs0",
        "colab": {
          "base_uri": "https://localhost:8080/"
        },
        "outputId": "78e863e3-7e42-498a-8f56-44ada210195f"
      },
      "source": [
        "df = df.loc[(df['attacking_work_rate'].isin(['medium','high','low'])\\\n",
        "                       & df['defensive_work_rate'].isin(['medium','high','low'])),:]\n",
        "print(df.shape)"
      ],
      "execution_count": 12,
      "outputs": [
        {
          "output_type": "stream",
          "text": [
            "(176161, 38)\n"
          ],
          "name": "stdout"
        }
      ]
    },
    {
      "cell_type": "code",
      "metadata": {
        "id": "QCRX9JcH6Bs1",
        "colab": {
          "base_uri": "https://localhost:8080/",
          "height": 729
        },
        "outputId": "2b293151-341c-4b45-9af0-bc81626b7948"
      },
      "source": [
        "fig3, ax3 = plt.subplots(nrows = 3, ncols = 1)\n",
        "fig3.set_size_inches(10,10)\n",
        "sns.countplot(x = df['preferred_foot'],ax = ax3[0])\n",
        "sns.countplot(x = df['attacking_work_rate'],ax = ax3[1])\n",
        "sns.countplot(x = df['defensive_work_rate'], ax=ax3[2])\n",
        "fig3.tight_layout()"
      ],
      "execution_count": 13,
      "outputs": [
        {
          "output_type": "display_data",
          "data": {
            "image/png": "[encoded data removed]",
            "text/plain": [
              "<Figure size 720x720 with 3 Axes>"
            ]
          },
          "metadata": {
            "tags": [],
            "needs_background": "light"
          }
        }
      ]
    },
    {
      "cell_type": "code",
      "metadata": {
        "id": "SkDhy6Ye6Bs1",
        "colab": {
          "base_uri": "https://localhost:8080/"
        },
        "outputId": "9c63ca62-d402-4e55-a004-ad398d96c7e7"
      },
      "source": [
        "print(\"The new transformed dataset shape is\", df.shape)"
      ],
      "execution_count": 14,
      "outputs": [
        {
          "output_type": "stream",
          "text": [
            "The new transformed dataset shape is (176161, 38)\n"
          ],
          "name": "stdout"
        }
      ]
    },
    {
      "cell_type": "markdown",
      "metadata": {
        "id": "lMvAHFRH6Bs1"
      },
      "source": [
        "**While handling attacking_work_rate and defensive_work_rate features, all the missing values have been taken care of**"
      ]
    },
    {
      "cell_type": "markdown",
      "metadata": {
        "id": "EkY_LTwG6Bs2"
      },
      "source": [
        "## Encoding Categorical Features"
      ]
    },
    {
      "cell_type": "markdown",
      "metadata": {
        "id": "aO_SO8XI6Bs2"
      },
      "source": [
        "\"preferred_foot\", \"attacking_work_rate\", \"defensive_work_rate\" are the categorical features"
      ]
    },
    {
      "cell_type": "markdown",
      "metadata": {
        "id": "97gVa4nQ6Bs3"
      },
      "source": [
        "for **preferred_foot**"
      ]
    },
    {
      "cell_type": "code",
      "metadata": {
        "id": "t7AHqO2E6Bs3",
        "colab": {
          "base_uri": "https://localhost:8080/"
        },
        "outputId": "7c28adf8-0f99-49a3-9589-caf43a2a9a16"
      },
      "source": [
        "df[\"preferred_foot\"].unique()"
      ],
      "execution_count": 15,
      "outputs": [
        {
          "output_type": "execute_result",
          "data": {
            "text/plain": [
              "array(['right', 'left'], dtype=object)"
            ]
          },
          "metadata": {
            "tags": []
          },
          "execution_count": 15
        }
      ]
    },
    {
      "cell_type": "code",
      "metadata": {
        "id": "Y674A9Qa6Bs3"
      },
      "source": [
        "preferred_foot=pd.get_dummies(pd.get_dummies(df[\"preferred_foot\"]), drop_first=True)\n",
        "df=df.join(preferred_foot)\n",
        "df.drop(labels=[\"preferred_foot\", \"left\"], axis=1, inplace=True)"
      ],
      "execution_count": 16,
      "outputs": []
    },
    {
      "cell_type": "code",
      "metadata": {
        "id": "T3VXmQ636Bs3",
        "colab": {
          "base_uri": "https://localhost:8080/",
          "height": 226
        },
        "outputId": "a83899bb-8a36-4b2e-c25d-e0ba2b2d841b"
      },
      "source": [
        "df.head()"
      ],
      "execution_count": 17,
      "outputs": [
        {
          "output_type": "execute_result",
          "data": {
            "text/html": [
              "<div>\n",
              "<style scoped>\n",
              "    .dataframe tbody tr th:only-of-type {\n",
              "        vertical-align: middle;\n",
              "    }\n",
              "\n",
              "    .dataframe tbody tr th {\n",
              "        vertical-align: top;\n",
              "    }\n",
              "\n",
              "    .dataframe thead th {\n",
              "        text-align: right;\n",
              "    }\n",
              "</style>\n",
              "<table border=\"1\" class=\"dataframe\">\n",
              "  <thead>\n",
              "    <tr style=\"text-align: right;\">\n",
              "      <th></th>\n",
              "      <th>overall_rating</th>\n",
              "      <th>potential</th>\n",
              "      <th>attacking_work_rate</th>\n",
              "      <th>defensive_work_rate</th>\n",
              "      <th>crossing</th>\n",
              "      <th>finishing</th>\n",
              "      <th>heading_accuracy</th>\n",
              "      <th>short_passing</th>\n",
              "      <th>volleys</th>\n",
              "      <th>dribbling</th>\n",
              "      <th>curve</th>\n",
              "      <th>free_kick_accuracy</th>\n",
              "      <th>long_passing</th>\n",
              "      <th>ball_control</th>\n",
              "      <th>acceleration</th>\n",
              "      <th>sprint_speed</th>\n",
              "      <th>agility</th>\n",
              "      <th>reactions</th>\n",
              "      <th>balance</th>\n",
              "      <th>shot_power</th>\n",
              "      <th>jumping</th>\n",
              "      <th>stamina</th>\n",
              "      <th>strength</th>\n",
              "      <th>long_shots</th>\n",
              "      <th>aggression</th>\n",
              "      <th>interceptions</th>\n",
              "      <th>positioning</th>\n",
              "      <th>vision</th>\n",
              "      <th>penalties</th>\n",
              "      <th>marking</th>\n",
              "      <th>standing_tackle</th>\n",
              "      <th>sliding_tackle</th>\n",
              "      <th>gk_diving</th>\n",
              "      <th>gk_handling</th>\n",
              "      <th>gk_kicking</th>\n",
              "      <th>gk_positioning</th>\n",
              "      <th>gk_reflexes</th>\n",
              "      <th>right</th>\n",
              "    </tr>\n",
              "  </thead>\n",
              "  <tbody>\n",
              "    <tr>\n",
              "      <th>0</th>\n",
              "      <td>67.0</td>\n",
              "      <td>71.0</td>\n",
              "      <td>medium</td>\n",
              "      <td>medium</td>\n",
              "      <td>49.0</td>\n",
              "      <td>44.0</td>\n",
              "      <td>71.0</td>\n",
              "      <td>61.0</td>\n",
              "      <td>44.0</td>\n",
              "      <td>51.0</td>\n",
              "      <td>45.0</td>\n",
              "      <td>39.0</td>\n",
              "      <td>64.0</td>\n",
              "      <td>49.0</td>\n",
              "      <td>60.0</td>\n",
              "      <td>64.0</td>\n",
              "      <td>59.0</td>\n",
              "      <td>47.0</td>\n",
              "      <td>65.0</td>\n",
              "      <td>55.0</td>\n",
              "      <td>58.0</td>\n",
              "      <td>54.0</td>\n",
              "      <td>76.0</td>\n",
              "      <td>35.0</td>\n",
              "      <td>71.0</td>\n",
              "      <td>70.0</td>\n",
              "      <td>45.0</td>\n",
              "      <td>54.0</td>\n",
              "      <td>48.0</td>\n",
              "      <td>65.0</td>\n",
              "      <td>69.0</td>\n",
              "      <td>69.0</td>\n",
              "      <td>6.0</td>\n",
              "      <td>11.0</td>\n",
              "      <td>10.0</td>\n",
              "      <td>8.0</td>\n",
              "      <td>8.0</td>\n",
              "      <td>1</td>\n",
              "    </tr>\n",
              "    <tr>\n",
              "      <th>1</th>\n",
              "      <td>67.0</td>\n",
              "      <td>71.0</td>\n",
              "      <td>medium</td>\n",
              "      <td>medium</td>\n",
              "      <td>49.0</td>\n",
              "      <td>44.0</td>\n",
              "      <td>71.0</td>\n",
              "      <td>61.0</td>\n",
              "      <td>44.0</td>\n",
              "      <td>51.0</td>\n",
              "      <td>45.0</td>\n",
              "      <td>39.0</td>\n",
              "      <td>64.0</td>\n",
              "      <td>49.0</td>\n",
              "      <td>60.0</td>\n",
              "      <td>64.0</td>\n",
              "      <td>59.0</td>\n",
              "      <td>47.0</td>\n",
              "      <td>65.0</td>\n",
              "      <td>55.0</td>\n",
              "      <td>58.0</td>\n",
              "      <td>54.0</td>\n",
              "      <td>76.0</td>\n",
              "      <td>35.0</td>\n",
              "      <td>71.0</td>\n",
              "      <td>70.0</td>\n",
              "      <td>45.0</td>\n",
              "      <td>54.0</td>\n",
              "      <td>48.0</td>\n",
              "      <td>65.0</td>\n",
              "      <td>69.0</td>\n",
              "      <td>69.0</td>\n",
              "      <td>6.0</td>\n",
              "      <td>11.0</td>\n",
              "      <td>10.0</td>\n",
              "      <td>8.0</td>\n",
              "      <td>8.0</td>\n",
              "      <td>1</td>\n",
              "    </tr>\n",
              "    <tr>\n",
              "      <th>2</th>\n",
              "      <td>62.0</td>\n",
              "      <td>66.0</td>\n",
              "      <td>medium</td>\n",
              "      <td>medium</td>\n",
              "      <td>49.0</td>\n",
              "      <td>44.0</td>\n",
              "      <td>71.0</td>\n",
              "      <td>61.0</td>\n",
              "      <td>44.0</td>\n",
              "      <td>51.0</td>\n",
              "      <td>45.0</td>\n",
              "      <td>39.0</td>\n",
              "      <td>64.0</td>\n",
              "      <td>49.0</td>\n",
              "      <td>60.0</td>\n",
              "      <td>64.0</td>\n",
              "      <td>59.0</td>\n",
              "      <td>47.0</td>\n",
              "      <td>65.0</td>\n",
              "      <td>55.0</td>\n",
              "      <td>58.0</td>\n",
              "      <td>54.0</td>\n",
              "      <td>76.0</td>\n",
              "      <td>35.0</td>\n",
              "      <td>63.0</td>\n",
              "      <td>41.0</td>\n",
              "      <td>45.0</td>\n",
              "      <td>54.0</td>\n",
              "      <td>48.0</td>\n",
              "      <td>65.0</td>\n",
              "      <td>66.0</td>\n",
              "      <td>69.0</td>\n",
              "      <td>6.0</td>\n",
              "      <td>11.0</td>\n",
              "      <td>10.0</td>\n",
              "      <td>8.0</td>\n",
              "      <td>8.0</td>\n",
              "      <td>1</td>\n",
              "    </tr>\n",
              "    <tr>\n",
              "      <th>3</th>\n",
              "      <td>61.0</td>\n",
              "      <td>65.0</td>\n",
              "      <td>medium</td>\n",
              "      <td>medium</td>\n",
              "      <td>48.0</td>\n",
              "      <td>43.0</td>\n",
              "      <td>70.0</td>\n",
              "      <td>60.0</td>\n",
              "      <td>43.0</td>\n",
              "      <td>50.0</td>\n",
              "      <td>44.0</td>\n",
              "      <td>38.0</td>\n",
              "      <td>63.0</td>\n",
              "      <td>48.0</td>\n",
              "      <td>60.0</td>\n",
              "      <td>64.0</td>\n",
              "      <td>59.0</td>\n",
              "      <td>46.0</td>\n",
              "      <td>65.0</td>\n",
              "      <td>54.0</td>\n",
              "      <td>58.0</td>\n",
              "      <td>54.0</td>\n",
              "      <td>76.0</td>\n",
              "      <td>34.0</td>\n",
              "      <td>62.0</td>\n",
              "      <td>40.0</td>\n",
              "      <td>44.0</td>\n",
              "      <td>53.0</td>\n",
              "      <td>47.0</td>\n",
              "      <td>62.0</td>\n",
              "      <td>63.0</td>\n",
              "      <td>66.0</td>\n",
              "      <td>5.0</td>\n",
              "      <td>10.0</td>\n",
              "      <td>9.0</td>\n",
              "      <td>7.0</td>\n",
              "      <td>7.0</td>\n",
              "      <td>1</td>\n",
              "    </tr>\n",
              "    <tr>\n",
              "      <th>4</th>\n",
              "      <td>61.0</td>\n",
              "      <td>65.0</td>\n",
              "      <td>medium</td>\n",
              "      <td>medium</td>\n",
              "      <td>48.0</td>\n",
              "      <td>43.0</td>\n",
              "      <td>70.0</td>\n",
              "      <td>60.0</td>\n",
              "      <td>43.0</td>\n",
              "      <td>50.0</td>\n",
              "      <td>44.0</td>\n",
              "      <td>38.0</td>\n",
              "      <td>63.0</td>\n",
              "      <td>48.0</td>\n",
              "      <td>60.0</td>\n",
              "      <td>64.0</td>\n",
              "      <td>59.0</td>\n",
              "      <td>46.0</td>\n",
              "      <td>65.0</td>\n",
              "      <td>54.0</td>\n",
              "      <td>58.0</td>\n",
              "      <td>54.0</td>\n",
              "      <td>76.0</td>\n",
              "      <td>34.0</td>\n",
              "      <td>62.0</td>\n",
              "      <td>40.0</td>\n",
              "      <td>44.0</td>\n",
              "      <td>53.0</td>\n",
              "      <td>47.0</td>\n",
              "      <td>62.0</td>\n",
              "      <td>63.0</td>\n",
              "      <td>66.0</td>\n",
              "      <td>5.0</td>\n",
              "      <td>10.0</td>\n",
              "      <td>9.0</td>\n",
              "      <td>7.0</td>\n",
              "      <td>7.0</td>\n",
              "      <td>1</td>\n",
              "    </tr>\n",
              "  </tbody>\n",
              "</table>\n",
              "</div>"
            ],
            "text/plain": [
              "   overall_rating  potential  ... gk_reflexes right\n",
              "0            67.0       71.0  ...         8.0     1\n",
              "1            67.0       71.0  ...         8.0     1\n",
              "2            62.0       66.0  ...         8.0     1\n",
              "3            61.0       65.0  ...         7.0     1\n",
              "4            61.0       65.0  ...         7.0     1\n",
              "\n",
              "[5 rows x 38 columns]"
            ]
          },
          "metadata": {
            "tags": []
          },
          "execution_count": 17
        }
      ]
    },
    {
      "cell_type": "code",
      "metadata": {
        "id": "b6iw0PA56Bs4",
        "colab": {
          "base_uri": "https://localhost:8080/"
        },
        "outputId": "c93e909d-410e-4ada-b24f-9d461ae461d1"
      },
      "source": [
        "df.right.value_counts()"
      ],
      "execution_count": 18,
      "outputs": [
        {
          "output_type": "execute_result",
          "data": {
            "text/plain": [
              "1    133102\n",
              "0     43059\n",
              "Name: right, dtype: int64"
            ]
          },
          "metadata": {
            "tags": []
          },
          "execution_count": 18
        }
      ]
    },
    {
      "cell_type": "markdown",
      "metadata": {
        "id": "UbDpGrk_6Bs4"
      },
      "source": [
        "for **attacking_work_rate**"
      ]
    },
    {
      "cell_type": "code",
      "metadata": {
        "id": "n1i9vKD06Bs4",
        "colab": {
          "base_uri": "https://localhost:8080/"
        },
        "outputId": "b7164dce-6b0e-4b6c-8be5-186e62936bec"
      },
      "source": [
        "df['attacking_work_rate'].unique()"
      ],
      "execution_count": 19,
      "outputs": [
        {
          "output_type": "execute_result",
          "data": {
            "text/plain": [
              "array(['medium', 'high', 'low'], dtype=object)"
            ]
          },
          "metadata": {
            "tags": []
          },
          "execution_count": 19
        }
      ]
    },
    {
      "cell_type": "code",
      "metadata": {
        "id": "8lKB-Nnp6Bs5",
        "colab": {
          "base_uri": "https://localhost:8080/"
        },
        "outputId": "2bdc5979-00dc-4ae5-d400-715070994c3e"
      },
      "source": [
        "# Import label encoder \n",
        "from sklearn import preprocessing \n",
        "  \n",
        "# label_encoder object knows how to understand word labels. \n",
        "label_encoder = preprocessing.LabelEncoder() \n",
        "  \n",
        "# Encode labels in the column \n",
        "df['attacking_work_rate']= label_encoder.fit_transform(df['attacking_work_rate']) \n",
        "  \n",
        "df['attacking_work_rate'].unique() "
      ],
      "execution_count": 20,
      "outputs": [
        {
          "output_type": "execute_result",
          "data": {
            "text/plain": [
              "array([2, 0, 1])"
            ]
          },
          "metadata": {
            "tags": []
          },
          "execution_count": 20
        }
      ]
    },
    {
      "cell_type": "markdown",
      "metadata": {
        "id": "U1EgtQil6Bs5"
      },
      "source": [
        "for **defensive_work_rate**"
      ]
    },
    {
      "cell_type": "code",
      "metadata": {
        "id": "gNCIL3lD6Bs5",
        "colab": {
          "base_uri": "https://localhost:8080/"
        },
        "outputId": "92efc744-8db5-448d-97bb-d3d6854ab96f"
      },
      "source": [
        "df['defensive_work_rate'].unique()"
      ],
      "execution_count": 21,
      "outputs": [
        {
          "output_type": "execute_result",
          "data": {
            "text/plain": [
              "array(['medium', 'high', 'low'], dtype=object)"
            ]
          },
          "metadata": {
            "tags": []
          },
          "execution_count": 21
        }
      ]
    },
    {
      "cell_type": "code",
      "metadata": {
        "id": "H2DlhLMS6Bs6",
        "colab": {
          "base_uri": "https://localhost:8080/"
        },
        "outputId": "8f2aa25b-1db2-4484-8b26-225e4d530b01"
      },
      "source": [
        "df['defensive_work_rate']= label_encoder.fit_transform(df['defensive_work_rate']) \n",
        "  \n",
        "df['defensive_work_rate'].unique()"
      ],
      "execution_count": 22,
      "outputs": [
        {
          "output_type": "execute_result",
          "data": {
            "text/plain": [
              "array([2, 0, 1])"
            ]
          },
          "metadata": {
            "tags": []
          },
          "execution_count": 22
        }
      ]
    },
    {
      "cell_type": "code",
      "metadata": {
        "id": "j0DLvzKN6Bs6",
        "colab": {
          "base_uri": "https://localhost:8080/",
          "height": 226
        },
        "outputId": "c67fe82a-538b-4ea0-9e2d-e0fb48c25e03"
      },
      "source": [
        "df.head()"
      ],
      "execution_count": 23,
      "outputs": [
        {
          "output_type": "execute_result",
          "data": {
            "text/html": [
              "<div>\n",
              "<style scoped>\n",
              "    .dataframe tbody tr th:only-of-type {\n",
              "        vertical-align: middle;\n",
              "    }\n",
              "\n",
              "    .dataframe tbody tr th {\n",
              "        vertical-align: top;\n",
              "    }\n",
              "\n",
              "    .dataframe thead th {\n",
              "        text-align: right;\n",
              "    }\n",
              "</style>\n",
              "<table border=\"1\" class=\"dataframe\">\n",
              "  <thead>\n",
              "    <tr style=\"text-align: right;\">\n",
              "      <th></th>\n",
              "      <th>overall_rating</th>\n",
              "      <th>potential</th>\n",
              "      <th>attacking_work_rate</th>\n",
              "      <th>defensive_work_rate</th>\n",
              "      <th>crossing</th>\n",
              "      <th>finishing</th>\n",
              "      <th>heading_accuracy</th>\n",
              "      <th>short_passing</th>\n",
              "      <th>volleys</th>\n",
              "      <th>dribbling</th>\n",
              "      <th>curve</th>\n",
              "      <th>free_kick_accuracy</th>\n",
              "      <th>long_passing</th>\n",
              "      <th>ball_control</th>\n",
              "      <th>acceleration</th>\n",
              "      <th>sprint_speed</th>\n",
              "      <th>agility</th>\n",
              "      <th>reactions</th>\n",
              "      <th>balance</th>\n",
              "      <th>shot_power</th>\n",
              "      <th>jumping</th>\n",
              "      <th>stamina</th>\n",
              "      <th>strength</th>\n",
              "      <th>long_shots</th>\n",
              "      <th>aggression</th>\n",
              "      <th>interceptions</th>\n",
              "      <th>positioning</th>\n",
              "      <th>vision</th>\n",
              "      <th>penalties</th>\n",
              "      <th>marking</th>\n",
              "      <th>standing_tackle</th>\n",
              "      <th>sliding_tackle</th>\n",
              "      <th>gk_diving</th>\n",
              "      <th>gk_handling</th>\n",
              "      <th>gk_kicking</th>\n",
              "      <th>gk_positioning</th>\n",
              "      <th>gk_reflexes</th>\n",
              "      <th>right</th>\n",
              "    </tr>\n",
              "  </thead>\n",
              "  <tbody>\n",
              "    <tr>\n",
              "      <th>0</th>\n",
              "      <td>67.0</td>\n",
              "      <td>71.0</td>\n",
              "      <td>2</td>\n",
              "      <td>2</td>\n",
              "      <td>49.0</td>\n",
              "      <td>44.0</td>\n",
              "      <td>71.0</td>\n",
              "      <td>61.0</td>\n",
              "      <td>44.0</td>\n",
              "      <td>51.0</td>\n",
              "      <td>45.0</td>\n",
              "      <td>39.0</td>\n",
              "      <td>64.0</td>\n",
              "      <td>49.0</td>\n",
              "      <td>60.0</td>\n",
              "      <td>64.0</td>\n",
              "      <td>59.0</td>\n",
              "      <td>47.0</td>\n",
              "      <td>65.0</td>\n",
              "      <td>55.0</td>\n",
              "      <td>58.0</td>\n",
              "      <td>54.0</td>\n",
              "      <td>76.0</td>\n",
              "      <td>35.0</td>\n",
              "      <td>71.0</td>\n",
              "      <td>70.0</td>\n",
              "      <td>45.0</td>\n",
              "      <td>54.0</td>\n",
              "      <td>48.0</td>\n",
              "      <td>65.0</td>\n",
              "      <td>69.0</td>\n",
              "      <td>69.0</td>\n",
              "      <td>6.0</td>\n",
              "      <td>11.0</td>\n",
              "      <td>10.0</td>\n",
              "      <td>8.0</td>\n",
              "      <td>8.0</td>\n",
              "      <td>1</td>\n",
              "    </tr>\n",
              "    <tr>\n",
              "      <th>1</th>\n",
              "      <td>67.0</td>\n",
              "      <td>71.0</td>\n",
              "      <td>2</td>\n",
              "      <td>2</td>\n",
              "      <td>49.0</td>\n",
              "      <td>44.0</td>\n",
              "      <td>71.0</td>\n",
              "      <td>61.0</td>\n",
              "      <td>44.0</td>\n",
              "      <td>51.0</td>\n",
              "      <td>45.0</td>\n",
              "      <td>39.0</td>\n",
              "      <td>64.0</td>\n",
              "      <td>49.0</td>\n",
              "      <td>60.0</td>\n",
              "      <td>64.0</td>\n",
              "      <td>59.0</td>\n",
              "      <td>47.0</td>\n",
              "      <td>65.0</td>\n",
              "      <td>55.0</td>\n",
              "      <td>58.0</td>\n",
              "      <td>54.0</td>\n",
              "      <td>76.0</td>\n",
              "      <td>35.0</td>\n",
              "      <td>71.0</td>\n",
              "      <td>70.0</td>\n",
              "      <td>45.0</td>\n",
              "      <td>54.0</td>\n",
              "      <td>48.0</td>\n",
              "      <td>65.0</td>\n",
              "      <td>69.0</td>\n",
              "      <td>69.0</td>\n",
              "      <td>6.0</td>\n",
              "      <td>11.0</td>\n",
              "      <td>10.0</td>\n",
              "      <td>8.0</td>\n",
              "      <td>8.0</td>\n",
              "      <td>1</td>\n",
              "    </tr>\n",
              "    <tr>\n",
              "      <th>2</th>\n",
              "      <td>62.0</td>\n",
              "      <td>66.0</td>\n",
              "      <td>2</td>\n",
              "      <td>2</td>\n",
              "      <td>49.0</td>\n",
              "      <td>44.0</td>\n",
              "      <td>71.0</td>\n",
              "      <td>61.0</td>\n",
              "      <td>44.0</td>\n",
              "      <td>51.0</td>\n",
              "      <td>45.0</td>\n",
              "      <td>39.0</td>\n",
              "      <td>64.0</td>\n",
              "      <td>49.0</td>\n",
              "      <td>60.0</td>\n",
              "      <td>64.0</td>\n",
              "      <td>59.0</td>\n",
              "      <td>47.0</td>\n",
              "      <td>65.0</td>\n",
              "      <td>55.0</td>\n",
              "      <td>58.0</td>\n",
              "      <td>54.0</td>\n",
              "      <td>76.0</td>\n",
              "      <td>35.0</td>\n",
              "      <td>63.0</td>\n",
              "      <td>41.0</td>\n",
              "      <td>45.0</td>\n",
              "      <td>54.0</td>\n",
              "      <td>48.0</td>\n",
              "      <td>65.0</td>\n",
              "      <td>66.0</td>\n",
              "      <td>69.0</td>\n",
              "      <td>6.0</td>\n",
              "      <td>11.0</td>\n",
              "      <td>10.0</td>\n",
              "      <td>8.0</td>\n",
              "      <td>8.0</td>\n",
              "      <td>1</td>\n",
              "    </tr>\n",
              "    <tr>\n",
              "      <th>3</th>\n",
              "      <td>61.0</td>\n",
              "      <td>65.0</td>\n",
              "      <td>2</td>\n",
              "      <td>2</td>\n",
              "      <td>48.0</td>\n",
              "      <td>43.0</td>\n",
              "      <td>70.0</td>\n",
              "      <td>60.0</td>\n",
              "      <td>43.0</td>\n",
              "      <td>50.0</td>\n",
              "      <td>44.0</td>\n",
              "      <td>38.0</td>\n",
              "      <td>63.0</td>\n",
              "      <td>48.0</td>\n",
              "      <td>60.0</td>\n",
              "      <td>64.0</td>\n",
              "      <td>59.0</td>\n",
              "      <td>46.0</td>\n",
              "      <td>65.0</td>\n",
              "      <td>54.0</td>\n",
              "      <td>58.0</td>\n",
              "      <td>54.0</td>\n",
              "      <td>76.0</td>\n",
              "      <td>34.0</td>\n",
              "      <td>62.0</td>\n",
              "      <td>40.0</td>\n",
              "      <td>44.0</td>\n",
              "      <td>53.0</td>\n",
              "      <td>47.0</td>\n",
              "      <td>62.0</td>\n",
              "      <td>63.0</td>\n",
              "      <td>66.0</td>\n",
              "      <td>5.0</td>\n",
              "      <td>10.0</td>\n",
              "      <td>9.0</td>\n",
              "      <td>7.0</td>\n",
              "      <td>7.0</td>\n",
              "      <td>1</td>\n",
              "    </tr>\n",
              "    <tr>\n",
              "      <th>4</th>\n",
              "      <td>61.0</td>\n",
              "      <td>65.0</td>\n",
              "      <td>2</td>\n",
              "      <td>2</td>\n",
              "      <td>48.0</td>\n",
              "      <td>43.0</td>\n",
              "      <td>70.0</td>\n",
              "      <td>60.0</td>\n",
              "      <td>43.0</td>\n",
              "      <td>50.0</td>\n",
              "      <td>44.0</td>\n",
              "      <td>38.0</td>\n",
              "      <td>63.0</td>\n",
              "      <td>48.0</td>\n",
              "      <td>60.0</td>\n",
              "      <td>64.0</td>\n",
              "      <td>59.0</td>\n",
              "      <td>46.0</td>\n",
              "      <td>65.0</td>\n",
              "      <td>54.0</td>\n",
              "      <td>58.0</td>\n",
              "      <td>54.0</td>\n",
              "      <td>76.0</td>\n",
              "      <td>34.0</td>\n",
              "      <td>62.0</td>\n",
              "      <td>40.0</td>\n",
              "      <td>44.0</td>\n",
              "      <td>53.0</td>\n",
              "      <td>47.0</td>\n",
              "      <td>62.0</td>\n",
              "      <td>63.0</td>\n",
              "      <td>66.0</td>\n",
              "      <td>5.0</td>\n",
              "      <td>10.0</td>\n",
              "      <td>9.0</td>\n",
              "      <td>7.0</td>\n",
              "      <td>7.0</td>\n",
              "      <td>1</td>\n",
              "    </tr>\n",
              "  </tbody>\n",
              "</table>\n",
              "</div>"
            ],
            "text/plain": [
              "   overall_rating  potential  ...  gk_reflexes  right\n",
              "0            67.0       71.0  ...          8.0      1\n",
              "1            67.0       71.0  ...          8.0      1\n",
              "2            62.0       66.0  ...          8.0      1\n",
              "3            61.0       65.0  ...          7.0      1\n",
              "4            61.0       65.0  ...          7.0      1\n",
              "\n",
              "[5 rows x 38 columns]"
            ]
          },
          "metadata": {
            "tags": []
          },
          "execution_count": 23
        }
      ]
    },
    {
      "cell_type": "markdown",
      "metadata": {
        "id": "PumTLrA16Bs6"
      },
      "source": [
        "## Model Training"
      ]
    },
    {
      "cell_type": "markdown",
      "metadata": {
        "id": "tiQHtokl6Bs6"
      },
      "source": [
        "**Tree based ensemble techniques are not sensitive to ouliers. Here, I am going to use ADABOOST, RANDOM FOREST, and XGBOOST algorithms**"
      ]
    },
    {
      "cell_type": "code",
      "metadata": {
        "id": "TD14DDOe6Bs6",
        "colab": {
          "base_uri": "https://localhost:8080/"
        },
        "outputId": "cafa1bbb-dce4-4a75-c67a-8e366d722706"
      },
      "source": [
        "print(df.shape)\n",
        "X=df.copy()\n",
        "X.drop(labels=[\"overall_rating\"], axis=1, inplace=True)\n",
        "print(X.shape)"
      ],
      "execution_count": 24,
      "outputs": [
        {
          "output_type": "stream",
          "text": [
            "(176161, 38)\n",
            "(176161, 37)\n"
          ],
          "name": "stdout"
        }
      ]
    },
    {
      "cell_type": "code",
      "metadata": {
        "id": "gsS6Uhg76Bs6",
        "colab": {
          "base_uri": "https://localhost:8080/"
        },
        "outputId": "6011203a-6de4-4dc4-d131-5fd7044ab24a"
      },
      "source": [
        "y=df[\"overall_rating\"]\n",
        "y.shape"
      ],
      "execution_count": 25,
      "outputs": [
        {
          "output_type": "execute_result",
          "data": {
            "text/plain": [
              "(176161,)"
            ]
          },
          "metadata": {
            "tags": []
          },
          "execution_count": 25
        }
      ]
    },
    {
      "cell_type": "markdown",
      "metadata": {
        "id": "Rxlvaw7G6Bs6"
      },
      "source": [
        "**Robust Scaler: to handle outliers efficiently**\\\n",
        "It is used to scale the feature to median and quantiles Scaling using median and quantiles consists of substracting the median to all the observations, and then dividing by the interquantile difference. The interquantile difference is the difference between the 75th and 25th quantile:\n",
        "\n",
        "IQR = 75th quantile - 25th quantile\n",
        "\n",
        "X_scaled = (X - X.median) / IQR\n",
        "\n",
        "0,1,2,3,4,5,6,7,8,9,10\n",
        "\n",
        "9-90 percentile---90% of all values in this group is less than 9 1-10 precentile---10% of all values in this group is less than 1 4-40%"
      ]
    },
    {
      "cell_type": "code",
      "metadata": {
        "id": "JeLWpCYs6Bs8",
        "colab": {
          "base_uri": "https://localhost:8080/",
          "height": 226
        },
        "outputId": "9a96367f-9108-4bb1-8c16-3e71db23efad"
      },
      "source": [
        "from sklearn.preprocessing import RobustScaler\n",
        "scaler=RobustScaler()\n",
        "X_robust_scaler=pd.DataFrame(scaler.fit_transform(X),columns=X.columns)\n",
        "X_robust_scaler.head()"
      ],
      "execution_count": 26,
      "outputs": [
        {
          "output_type": "execute_result",
          "data": {
            "text/html": [
              "<div>\n",
              "<style scoped>\n",
              "    .dataframe tbody tr th:only-of-type {\n",
              "        vertical-align: middle;\n",
              "    }\n",
              "\n",
              "    .dataframe tbody tr th {\n",
              "        vertical-align: top;\n",
              "    }\n",
              "\n",
              "    .dataframe thead th {\n",
              "        text-align: right;\n",
              "    }\n",
              "</style>\n",
              "<table border=\"1\" class=\"dataframe\">\n",
              "  <thead>\n",
              "    <tr style=\"text-align: right;\">\n",
              "      <th></th>\n",
              "      <th>potential</th>\n",
              "      <th>attacking_work_rate</th>\n",
              "      <th>defensive_work_rate</th>\n",
              "      <th>crossing</th>\n",
              "      <th>finishing</th>\n",
              "      <th>heading_accuracy</th>\n",
              "      <th>short_passing</th>\n",
              "      <th>volleys</th>\n",
              "      <th>dribbling</th>\n",
              "      <th>curve</th>\n",
              "      <th>free_kick_accuracy</th>\n",
              "      <th>long_passing</th>\n",
              "      <th>ball_control</th>\n",
              "      <th>acceleration</th>\n",
              "      <th>sprint_speed</th>\n",
              "      <th>agility</th>\n",
              "      <th>reactions</th>\n",
              "      <th>balance</th>\n",
              "      <th>shot_power</th>\n",
              "      <th>jumping</th>\n",
              "      <th>stamina</th>\n",
              "      <th>strength</th>\n",
              "      <th>long_shots</th>\n",
              "      <th>aggression</th>\n",
              "      <th>interceptions</th>\n",
              "      <th>positioning</th>\n",
              "      <th>vision</th>\n",
              "      <th>penalties</th>\n",
              "      <th>marking</th>\n",
              "      <th>standing_tackle</th>\n",
              "      <th>sliding_tackle</th>\n",
              "      <th>gk_diving</th>\n",
              "      <th>gk_handling</th>\n",
              "      <th>gk_kicking</th>\n",
              "      <th>gk_positioning</th>\n",
              "      <th>gk_reflexes</th>\n",
              "      <th>right</th>\n",
              "    </tr>\n",
              "  </thead>\n",
              "  <tbody>\n",
              "    <tr>\n",
              "      <th>0</th>\n",
              "      <td>-0.333333</td>\n",
              "      <td>0.0</td>\n",
              "      <td>0.0</td>\n",
              "      <td>-0.434783</td>\n",
              "      <td>-0.290323</td>\n",
              "      <td>0.578947</td>\n",
              "      <td>-0.266667</td>\n",
              "      <td>-0.285714</td>\n",
              "      <td>-0.65</td>\n",
              "      <td>-0.423077</td>\n",
              "      <td>-0.392857</td>\n",
              "      <td>0.277778</td>\n",
              "      <td>-1.285714</td>\n",
              "      <td>-0.5625</td>\n",
              "      <td>-0.333333</td>\n",
              "      <td>-0.529412</td>\n",
              "      <td>-1.666667</td>\n",
              "      <td>-0.125</td>\n",
              "      <td>-0.578947</td>\n",
              "      <td>-0.714286</td>\n",
              "      <td>-1.0</td>\n",
              "      <td>0.4375</td>\n",
              "      <td>-0.884615</td>\n",
              "      <td>0.318182</td>\n",
              "      <td>0.400000</td>\n",
              "      <td>-0.625000</td>\n",
              "      <td>-0.30</td>\n",
              "      <td>-0.409091</td>\n",
              "      <td>0.365854</td>\n",
              "      <td>0.325</td>\n",
              "      <td>0.380952</td>\n",
              "      <td>-0.666667</td>\n",
              "      <td>0.000000</td>\n",
              "      <td>-0.142857</td>\n",
              "      <td>-0.428571</td>\n",
              "      <td>-0.428571</td>\n",
              "      <td>0.0</td>\n",
              "    </tr>\n",
              "    <tr>\n",
              "      <th>1</th>\n",
              "      <td>-0.333333</td>\n",
              "      <td>0.0</td>\n",
              "      <td>0.0</td>\n",
              "      <td>-0.434783</td>\n",
              "      <td>-0.290323</td>\n",
              "      <td>0.578947</td>\n",
              "      <td>-0.266667</td>\n",
              "      <td>-0.285714</td>\n",
              "      <td>-0.65</td>\n",
              "      <td>-0.423077</td>\n",
              "      <td>-0.392857</td>\n",
              "      <td>0.277778</td>\n",
              "      <td>-1.285714</td>\n",
              "      <td>-0.5625</td>\n",
              "      <td>-0.333333</td>\n",
              "      <td>-0.529412</td>\n",
              "      <td>-1.666667</td>\n",
              "      <td>-0.125</td>\n",
              "      <td>-0.578947</td>\n",
              "      <td>-0.714286</td>\n",
              "      <td>-1.0</td>\n",
              "      <td>0.4375</td>\n",
              "      <td>-0.884615</td>\n",
              "      <td>0.318182</td>\n",
              "      <td>0.400000</td>\n",
              "      <td>-0.625000</td>\n",
              "      <td>-0.30</td>\n",
              "      <td>-0.409091</td>\n",
              "      <td>0.365854</td>\n",
              "      <td>0.325</td>\n",
              "      <td>0.380952</td>\n",
              "      <td>-0.666667</td>\n",
              "      <td>0.000000</td>\n",
              "      <td>-0.142857</td>\n",
              "      <td>-0.428571</td>\n",
              "      <td>-0.428571</td>\n",
              "      <td>0.0</td>\n",
              "    </tr>\n",
              "    <tr>\n",
              "      <th>2</th>\n",
              "      <td>-0.888889</td>\n",
              "      <td>0.0</td>\n",
              "      <td>0.0</td>\n",
              "      <td>-0.434783</td>\n",
              "      <td>-0.290323</td>\n",
              "      <td>0.578947</td>\n",
              "      <td>-0.266667</td>\n",
              "      <td>-0.285714</td>\n",
              "      <td>-0.65</td>\n",
              "      <td>-0.423077</td>\n",
              "      <td>-0.392857</td>\n",
              "      <td>0.277778</td>\n",
              "      <td>-1.285714</td>\n",
              "      <td>-0.5625</td>\n",
              "      <td>-0.333333</td>\n",
              "      <td>-0.529412</td>\n",
              "      <td>-1.666667</td>\n",
              "      <td>-0.125</td>\n",
              "      <td>-0.578947</td>\n",
              "      <td>-0.714286</td>\n",
              "      <td>-1.0</td>\n",
              "      <td>0.4375</td>\n",
              "      <td>-0.884615</td>\n",
              "      <td>-0.045455</td>\n",
              "      <td>-0.428571</td>\n",
              "      <td>-0.625000</td>\n",
              "      <td>-0.30</td>\n",
              "      <td>-0.409091</td>\n",
              "      <td>0.365854</td>\n",
              "      <td>0.250</td>\n",
              "      <td>0.380952</td>\n",
              "      <td>-0.666667</td>\n",
              "      <td>0.000000</td>\n",
              "      <td>-0.142857</td>\n",
              "      <td>-0.428571</td>\n",
              "      <td>-0.428571</td>\n",
              "      <td>0.0</td>\n",
              "    </tr>\n",
              "    <tr>\n",
              "      <th>3</th>\n",
              "      <td>-1.000000</td>\n",
              "      <td>0.0</td>\n",
              "      <td>0.0</td>\n",
              "      <td>-0.478261</td>\n",
              "      <td>-0.322581</td>\n",
              "      <td>0.526316</td>\n",
              "      <td>-0.333333</td>\n",
              "      <td>-0.321429</td>\n",
              "      <td>-0.70</td>\n",
              "      <td>-0.461538</td>\n",
              "      <td>-0.428571</td>\n",
              "      <td>0.222222</td>\n",
              "      <td>-1.357143</td>\n",
              "      <td>-0.5625</td>\n",
              "      <td>-0.333333</td>\n",
              "      <td>-0.529412</td>\n",
              "      <td>-1.750000</td>\n",
              "      <td>-0.125</td>\n",
              "      <td>-0.631579</td>\n",
              "      <td>-0.714286</td>\n",
              "      <td>-1.0</td>\n",
              "      <td>0.4375</td>\n",
              "      <td>-0.923077</td>\n",
              "      <td>-0.090909</td>\n",
              "      <td>-0.457143</td>\n",
              "      <td>-0.666667</td>\n",
              "      <td>-0.35</td>\n",
              "      <td>-0.454545</td>\n",
              "      <td>0.292683</td>\n",
              "      <td>0.175</td>\n",
              "      <td>0.309524</td>\n",
              "      <td>-0.833333</td>\n",
              "      <td>-0.142857</td>\n",
              "      <td>-0.285714</td>\n",
              "      <td>-0.571429</td>\n",
              "      <td>-0.571429</td>\n",
              "      <td>0.0</td>\n",
              "    </tr>\n",
              "    <tr>\n",
              "      <th>4</th>\n",
              "      <td>-1.000000</td>\n",
              "      <td>0.0</td>\n",
              "      <td>0.0</td>\n",
              "      <td>-0.478261</td>\n",
              "      <td>-0.322581</td>\n",
              "      <td>0.526316</td>\n",
              "      <td>-0.333333</td>\n",
              "      <td>-0.321429</td>\n",
              "      <td>-0.70</td>\n",
              "      <td>-0.461538</td>\n",
              "      <td>-0.428571</td>\n",
              "      <td>0.222222</td>\n",
              "      <td>-1.357143</td>\n",
              "      <td>-0.5625</td>\n",
              "      <td>-0.333333</td>\n",
              "      <td>-0.529412</td>\n",
              "      <td>-1.750000</td>\n",
              "      <td>-0.125</td>\n",
              "      <td>-0.631579</td>\n",
              "      <td>-0.714286</td>\n",
              "      <td>-1.0</td>\n",
              "      <td>0.4375</td>\n",
              "      <td>-0.923077</td>\n",
              "      <td>-0.090909</td>\n",
              "      <td>-0.457143</td>\n",
              "      <td>-0.666667</td>\n",
              "      <td>-0.35</td>\n",
              "      <td>-0.454545</td>\n",
              "      <td>0.292683</td>\n",
              "      <td>0.175</td>\n",
              "      <td>0.309524</td>\n",
              "      <td>-0.833333</td>\n",
              "      <td>-0.142857</td>\n",
              "      <td>-0.285714</td>\n",
              "      <td>-0.571429</td>\n",
              "      <td>-0.571429</td>\n",
              "      <td>0.0</td>\n",
              "    </tr>\n",
              "  </tbody>\n",
              "</table>\n",
              "</div>"
            ],
            "text/plain": [
              "   potential  attacking_work_rate  ...  gk_reflexes  right\n",
              "0  -0.333333                  0.0  ...    -0.428571    0.0\n",
              "1  -0.333333                  0.0  ...    -0.428571    0.0\n",
              "2  -0.888889                  0.0  ...    -0.428571    0.0\n",
              "3  -1.000000                  0.0  ...    -0.571429    0.0\n",
              "4  -1.000000                  0.0  ...    -0.571429    0.0\n",
              "\n",
              "[5 rows x 37 columns]"
            ]
          },
          "metadata": {
            "tags": []
          },
          "execution_count": 26
        }
      ]
    },
    {
      "cell_type": "code",
      "metadata": {
        "id": "ibqGvkIs6Bs8",
        "colab": {
          "base_uri": "https://localhost:8080/"
        },
        "outputId": "6f2b5277-173a-42ef-c3db-3796cbc31c2d"
      },
      "source": [
        "X=X.values\n",
        "y-y.values"
      ],
      "execution_count": 27,
      "outputs": [
        {
          "output_type": "execute_result",
          "data": {
            "text/plain": [
              "0         0.0\n",
              "1         0.0\n",
              "2         0.0\n",
              "3         0.0\n",
              "4         0.0\n",
              "         ... \n",
              "183973    0.0\n",
              "183974    0.0\n",
              "183975    0.0\n",
              "183976    0.0\n",
              "183977    0.0\n",
              "Name: overall_rating, Length: 176161, dtype: float64"
            ]
          },
          "metadata": {
            "tags": []
          },
          "execution_count": 27
        }
      ]
    },
    {
      "cell_type": "code",
      "metadata": {
        "id": "18TuVWWu6Bs8"
      },
      "source": [
        "#TRAIN-TEST SPLIT\n",
        "\n",
        "from sklearn.model_selection import train_test_split\n",
        "X_train, X_test, y_train, y_test = train_test_split(X, y, test_size=0.25, random_state=0)"
      ],
      "execution_count": 28,
      "outputs": []
    },
    {
      "cell_type": "code",
      "metadata": {
        "id": "q2whGnSu6Bs8"
      },
      "source": [
        "#!pip install xgboost"
      ],
      "execution_count": 29,
      "outputs": []
    },
    {
      "cell_type": "code",
      "metadata": {
        "id": "bbfDp3PD6Bs9"
      },
      "source": [
        "#model building libraries\n",
        "from sklearn.ensemble import AdaBoostRegressor\n",
        "from sklearn.ensemble import RandomForestRegressor\n",
        "import xgboost\n",
        "from xgboost import XGBRegressor\n",
        "from sklearn.model_selection import cross_val_score\n",
        "from sklearn import metrics\n",
        "from sklearn.metrics import mean_absolute_error\n",
        "from sklearn.metrics import mean_squared_error\n",
        "from sklearn.model_selection import StratifiedKFold, GridSearchCV, learning_curve, cross_val_score\n",
        "kfold = StratifiedKFold(n_splits=8)"
      ],
      "execution_count": 30,
      "outputs": []
    },
    {
      "cell_type": "code",
      "metadata": {
        "id": "0IAfVgf36Bs9",
        "colab": {
          "base_uri": "https://localhost:8080/",
          "height": 802
        },
        "outputId": "9314757d-c543-4115-fb3b-7eed250e4c55"
      },
      "source": [
        "adaboost= AdaBoostRegressor(random_state=0)\n",
        "adaboost.fit(X_train, y_train)\n",
        "y_pred=adaboost.predict(X_test)\n",
        "\n",
        "print(\"Adaboost r2 Score on Training set is\",round(adaboost.score(X_train, y_train)*100,2))\n",
        "print(\"Adaboost r2 Score on Test Set is\",round(adaboost.score(X_test, y_test)*100,2))\n",
        "\n",
        "accuracies = cross_val_score(adaboost, X_train, y_train, cv = kfold)\n",
        "print(accuracies)\n",
        "print(\"Accuracy: {:.2f} %\".format(accuracies.mean()*100))\n",
        "print(\"Standard Deviation: {:.2f} %\".format(accuracies.std()*100))\n",
        "\n",
        "mae=mean_absolute_error(y_pred, y_test)\n",
        "print(\"Mean Absolute Error:\" , mae)\n",
        "\n",
        "mse=mean_squared_error(y_test, y_pred)\n",
        "print(\"Mean Squared Error:\" , mse)\n",
        "\n",
        "print('RMSE:', np.sqrt(metrics.mean_squared_error(y_test, y_pred)))\n",
        "\n",
        "sns.distplot(y_test-y_pred)\n",
        "plt.show()\n",
        "\n",
        "plt.scatter(y_test, y_pred, alpha = 0.5)\n",
        "plt.xlabel(\"y_test\")\n",
        "plt.ylabel(\"y_pred\")\n",
        "plt.show()"
      ],
      "execution_count": 31,
      "outputs": [
        {
          "output_type": "stream",
          "text": [
            "Adaboost r2 Score on Training set is 80.7\n",
            "Adaboost r2 Score on Test Set is 80.59\n"
          ],
          "name": "stdout"
        },
        {
          "output_type": "stream",
          "text": [
            "/usr/local/lib/python3.6/dist-packages/sklearn/model_selection/_split.py:667: UserWarning: The least populated class in y has only 1 members, which is less than n_splits=8.\n",
            "  % (min_groups, self.n_splits)), UserWarning)\n"
          ],
          "name": "stderr"
        },
        {
          "output_type": "stream",
          "text": [
            "[0.81096986 0.79830722 0.79517757 0.82077688 0.80870532 0.82001573\n",
            " 0.81657847 0.8175612 ]\n",
            "Accuracy: 81.10 %\n",
            "Standard Deviation: 0.91 %\n",
            "Mean Absolute Error: 2.539264073077149\n",
            "Mean Squared Error: 9.617683840789404\n",
            "RMSE: 3.1012390815268343\n"
          ],
          "name": "stdout"
        },
        {
          "output_type": "stream",
          "text": [
            "/usr/local/lib/python3.6/dist-packages/seaborn/distributions.py:2557: FutureWarning: `distplot` is a deprecated function and will be removed in a future version. Please adapt your code to use either `displot` (a figure-level function with similar flexibility) or `histplot` (an axes-level function for histograms).\n",
            "  warnings.warn(msg, FutureWarning)\n"
          ],
          "name": "stderr"
        },
        {
          "output_type": "display_data",
          "data": {
            "image/png": "[encoded data removed]",
            "text/plain": [
              "<Figure size 432x288 with 1 Axes>"
            ]
          },
          "metadata": {
            "tags": [],
            "needs_background": "light"
          }
        },
        {
          "output_type": "display_data",
          "data": {
            "image/png": "[encoded data removed]",
            "text/plain": [
              "<Figure size 432x288 with 1 Axes>"
            ]
          },
          "metadata": {
            "tags": [],
            "needs_background": "light"
          }
        }
      ]
    },
    {
      "cell_type": "code",
      "metadata": {
        "id": "zbXThxfE6Bs9",
        "colab": {
          "base_uri": "https://localhost:8080/",
          "height": 802
        },
        "outputId": "4c893fb3-be03-439a-ea61-aff91d5fb2bf"
      },
      "source": [
        "rf_reg = RandomForestRegressor(random_state = 0)\n",
        "rf_reg.fit(X_train, y_train)\n",
        "y_pred=rf_reg.predict(X_test)\n",
        "\n",
        "print(\"Random Forest r2 Score on Training set is\",round(rf_reg.score(X_train, y_train)*100,2))\n",
        "print(\"Random Forest r2 Score on Test Set is\",round(rf_reg.score(X_test, y_test)*100,2))\n",
        "\n",
        "accuracies = cross_val_score(rf_reg, X_train, y_train, cv = kfold)\n",
        "print(accuracies)\n",
        "print(\"Accuracy: {:.2f} %\".format(accuracies.mean()*100))\n",
        "print(\"Standard Deviation: {:.2f} %\".format(accuracies.std()*100))\n",
        "\n",
        "mae=mean_absolute_error(y_pred, y_test)\n",
        "print(\"Mean Absolute Error:\" , mae)\n",
        "\n",
        "mse=mean_squared_error(y_test, y_pred)\n",
        "print(\"Mean Squared Error:\" , mse)\n",
        "\n",
        "print('RMSE:', np.sqrt(metrics.mean_squared_error(y_test, y_pred)))\n",
        "\n",
        "sns.distplot(y_test-y_pred)\n",
        "plt.show()\n",
        "\n",
        "plt.scatter(y_test, y_pred, alpha = 0.5)\n",
        "plt.xlabel(\"y_test\")\n",
        "plt.ylabel(\"y_pred\")\n",
        "plt.show()"
      ],
      "execution_count": 32,
      "outputs": [
        {
          "output_type": "stream",
          "text": [
            "Random Forest r2 Score on Training set is 99.72\n",
            "Random Forest r2 Score on Test Set is 98.26\n"
          ],
          "name": "stdout"
        },
        {
          "output_type": "stream",
          "text": [
            "/usr/local/lib/python3.6/dist-packages/sklearn/model_selection/_split.py:667: UserWarning: The least populated class in y has only 1 members, which is less than n_splits=8.\n",
            "  % (min_groups, self.n_splits)), UserWarning)\n"
          ],
          "name": "stderr"
        },
        {
          "output_type": "stream",
          "text": [
            "[0.98070465 0.97984719 0.98153912 0.98075626 0.98144316 0.98063153\n",
            " 0.98103319 0.98144526]\n",
            "Accuracy: 98.09 %\n",
            "Standard Deviation: 0.05 %\n",
            "Mean Absolute Error: 0.4997487122975192\n",
            "Mean Squared Error: 0.8628267023633679\n",
            "RMSE: 0.9288846550370868\n"
          ],
          "name": "stdout"
        },
        {
          "output_type": "stream",
          "text": [
            "/usr/local/lib/python3.6/dist-packages/seaborn/distributions.py:2557: FutureWarning: `distplot` is a deprecated function and will be removed in a future version. Please adapt your code to use either `displot` (a figure-level function with similar flexibility) or `histplot` (an axes-level function for histograms).\n",
            "  warnings.warn(msg, FutureWarning)\n"
          ],
          "name": "stderr"
        },
        {
          "output_type": "display_data",
          "data": {
            "image/png": "[encoded data removed]",
            "text/plain": [
              "<Figure size 432x288 with 1 Axes>"
            ]
          },
          "metadata": {
            "tags": [],
            "needs_background": "light"
          }
        },
        {
          "output_type": "display_data",
          "data": {
            "image/png": "[encoded data removed]",
            "text/plain": [
              "<Figure size 432x288 with 1 Axes>"
            ]
          },
          "metadata": {
            "tags": [],
            "needs_background": "light"
          }
        }
      ]
    },
    {
      "cell_type": "code",
      "metadata": {
        "id": "Vec6ki8w6Bs9",
        "colab": {
          "base_uri": "https://localhost:8080/",
          "height": 971
        },
        "outputId": "08e51c57-71d7-4c62-c2d0-967d53dce3aa"
      },
      "source": [
        "xgb = XGBRegressor(random_state =0)\n",
        "xgb.fit(X_train, y_train)\n",
        "y_pred=xgb.predict(X_test)\n",
        "\n",
        "print(\"XGBRegressor r2 Score on Training set is\",round(xgb.score(X_train, y_train)*100,2))\n",
        "print(\"XGBRegressor r2 Score on Test Set is\",round(xgb.score(X_test, y_test)*100,2))\n",
        "\n",
        "accuracies = cross_val_score(xgb, X_train, y_train, cv = kfold)\n",
        "print(accuracies)\n",
        "print(\"Accuracy: {:.2f} %\".format(accuracies.mean()*100))\n",
        "print(\"Standard Deviation: {:.2f} %\".format(accuracies.std()*100))\n",
        "\n",
        "mae=mean_absolute_error(y_pred, y_test)\n",
        "print(\"Mean Absolute Error:\" , mae)\n",
        "\n",
        "mse=mean_squared_error(y_test, y_pred)\n",
        "print(\"Mean Squared Error:\" , mse)\n",
        "\n",
        "print('RMSE:', np.sqrt(metrics.mean_squared_error(y_test, y_pred)))\n",
        "\n",
        "sns.distplot(y_test-y_pred)\n",
        "plt.show()\n",
        "\n",
        "plt.scatter(y_test, y_pred, alpha = 0.5)\n",
        "plt.xlabel(\"y_test\")\n",
        "plt.ylabel(\"y_pred\")\n",
        "plt.show()"
      ],
      "execution_count": 33,
      "outputs": [
        {
          "output_type": "stream",
          "text": [
            "[09:50:17] WARNING: /workspace/src/objective/regression_obj.cu:152: reg:linear is now deprecated in favor of reg:squarederror.\n",
            "XGBRegressor r2 Score on Training set is 93.92\n",
            "XGBRegressor r2 Score on Test Set is 93.64\n"
          ],
          "name": "stdout"
        },
        {
          "output_type": "stream",
          "text": [
            "/usr/local/lib/python3.6/dist-packages/sklearn/model_selection/_split.py:667: UserWarning: The least populated class in y has only 1 members, which is less than n_splits=8.\n",
            "  % (min_groups, self.n_splits)), UserWarning)\n"
          ],
          "name": "stderr"
        },
        {
          "output_type": "stream",
          "text": [
            "[09:50:37] WARNING: /workspace/src/objective/regression_obj.cu:152: reg:linear is now deprecated in favor of reg:squarederror.\n",
            "[09:50:54] WARNING: /workspace/src/objective/regression_obj.cu:152: reg:linear is now deprecated in favor of reg:squarederror.\n",
            "[09:51:10] WARNING: /workspace/src/objective/regression_obj.cu:152: reg:linear is now deprecated in favor of reg:squarederror.\n",
            "[09:51:25] WARNING: /workspace/src/objective/regression_obj.cu:152: reg:linear is now deprecated in favor of reg:squarederror.\n",
            "[09:51:42] WARNING: /workspace/src/objective/regression_obj.cu:152: reg:linear is now deprecated in favor of reg:squarederror.\n",
            "[09:51:58] WARNING: /workspace/src/objective/regression_obj.cu:152: reg:linear is now deprecated in favor of reg:squarederror.\n",
            "[09:52:14] WARNING: /workspace/src/objective/regression_obj.cu:152: reg:linear is now deprecated in favor of reg:squarederror.\n",
            "[09:52:31] WARNING: /workspace/src/objective/regression_obj.cu:152: reg:linear is now deprecated in favor of reg:squarederror.\n",
            "[0.93738932 0.93699008 0.9390653  0.93835874 0.93859348 0.93722208\n",
            " 0.93677805 0.93828855]\n",
            "Accuracy: 93.78 %\n",
            "Standard Deviation: 0.08 %\n",
            "Mean Absolute Error: 1.279163202952847\n",
            "Mean Squared Error: 3.154075350932616\n",
            "RMSE: 1.7759716638878607\n"
          ],
          "name": "stdout"
        },
        {
          "output_type": "stream",
          "text": [
            "/usr/local/lib/python3.6/dist-packages/seaborn/distributions.py:2557: FutureWarning: `distplot` is a deprecated function and will be removed in a future version. Please adapt your code to use either `displot` (a figure-level function with similar flexibility) or `histplot` (an axes-level function for histograms).\n",
            "  warnings.warn(msg, FutureWarning)\n"
          ],
          "name": "stderr"
        },
        {
          "output_type": "display_data",
          "data": {
            "image/png": "[encoded data removed]",
            "text/plain": [
              "<Figure size 432x288 with 1 Axes>"
            ]
          },
          "metadata": {
            "tags": [],
            "needs_background": "light"
          }
        },
        {
          "output_type": "display_data",
          "data": {
            "image/png": "[encoded data removed]",
            "text/plain": [
              "<Figure size 432x288 with 1 Axes>"
            ]
          },
          "metadata": {
            "tags": [],
            "needs_background": "light"
          }
        }
      ]
    },
    {
      "cell_type": "markdown",
      "metadata": {
        "id": "bHaaVKpL6Bs9"
      },
      "source": [
        "**From the above ensemble techniques, XGBRegressor and Random Forest Regressor perform exceptionally well. Random Forest, a bagging algorithm takes the most time out of the three to execute but even without Hyperparameter Optimzation (in it's default parameters state), it performs better than XGBoost.**\n",
        "\n",
        "##### Since, our XGBoost and Random Forest models are performing well., we can choose any out of the two models to predict the player's Overall Rating.\n",
        "\n",
        "Scope:\n",
        "1. Perform Feature Engineering Dimensionality Reduction.\n",
        "2. Perform Hyperparameter Optimization for both XGB and Random Forest to increase model performance and accuracy (though this would take quite a lot of time even on cloud based GPUs).\n",
        "3. Solve the problem statemenr with ANN."
      ]
    }
  ]
}